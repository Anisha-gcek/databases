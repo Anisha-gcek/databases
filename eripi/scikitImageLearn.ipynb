{
 "cells": [
  {
   "cell_type": "markdown",
   "metadata": {},
   "source": [
    "# Computer Vision: scikit-image + scikit-learn\n",
    "\n",
    "![](python-logo.png)\n",
    "![](logo.png)\n",
    "![](scikit-learn-logo-small.png)"
   ]
  },
  {
   "cell_type": "markdown",
   "metadata": {},
   "source": [
    "# Problema: \n",
    "## Classificar Imagens de Motociclistas\n",
    "#### *Com capacete* \n",
    "\n",
    "#### *Sem capacete*\n"
   ]
  },
  {
   "cell_type": "markdown",
   "metadata": {},
   "source": []
  },
  {
   "cell_type": "markdown",
   "metadata": {},
   "source": []
  },
  {
   "cell_type": "markdown",
   "metadata": {},
   "source": []
  },
  {
   "cell_type": "code",
   "execution_count": 1,
   "metadata": {
    "collapsed": true
   },
   "outputs": [],
   "source": [
    "import numpy as np\n",
    "from numpy import copy\n",
    "import matplotlib.pyplot as plt\n",
    "from skimage.io import imread_collection,imsave\n",
    "from sklearn.model_selection import train_test_split\n",
    "from glob import glob\n",
    "from scipy.stats import randint as sp_randint\n",
    "import time\n",
    "from skimage.color import rgb2grey\n",
    "from skimage.filters import threshold_otsu\n",
    "from skimage.measure import label,regionprops\n",
    "import copy\n",
    "from scipy.stats.mstats_basic import skew, kurtosis\n",
    "\n",
    "%matplotlib inline"
   ]
  },
  {
   "cell_type": "markdown",
   "metadata": {},
   "source": [
    "# Read images from database"
   ]
  },
  {
   "cell_type": "code",
   "execution_count": 2,
   "metadata": {
    "collapsed": true
   },
   "outputs": [],
   "source": [
    "path = \"/Users/romuere/Dropbox/MTAP/databases/database2_raw_data/\""
   ]
  },
  {
   "cell_type": "code",
   "execution_count": 3,
   "metadata": {
    "collapsed": false
   },
   "outputs": [],
   "source": [
    "comcapacete = glob(path+'comcapacete/*.png')"
   ]
  },
  {
   "cell_type": "code",
   "execution_count": 4,
   "metadata": {
    "collapsed": false
   },
   "outputs": [],
   "source": [
    "semcapacete = glob(path+'semcapacete/*.png')"
   ]
  },
  {
   "cell_type": "code",
   "execution_count": 5,
   "metadata": {
    "collapsed": false
   },
   "outputs": [],
   "source": [
    "images_cc = imread_collection(comcapacete)\n",
    "images_sc = imread_collection(semcapacete)"
   ]
  },
  {
   "cell_type": "markdown",
   "metadata": {},
   "source": [
    "# Segmentation"
   ]
  },
  {
   "cell_type": "code",
   "execution_count": 6,
   "metadata": {
    "collapsed": true
   },
   "outputs": [],
   "source": [
    "def segmentation(im):\n",
    "    '''Recebe uma imagem calcula limiar de otsu e fazer o \n",
    "       recorte obdecendo a região resultante desse limiar'''\n",
    "    \n",
    "    grey_image = rgb2grey(im)\n",
    "    otsu = threshold_otsu(grey_image)\n",
    "    im_ = grey_image < otsu \n",
    "    \n",
    "    n_branco = np.sum(im_ == 1)\n",
    "    n_preto = np.sum(im_ == 0)\n",
    "    if n_branco > n_preto:\n",
    "        im_ = 1-im_\n",
    "    \n",
    "    label_img = label(im_, connectivity = grey_image.ndim)#detecta regioes nao conectadas\n",
    "    props = regionprops(label_img)#calcula propriedade importantes de cada regiao encontrada (ex. area)\n",
    "\n",
    "    #Convert todas as regioes que possuem um valor de area menor que a maior area em background da imagem \n",
    "    area = np.asarray([props[i].area for i in range(len(props))])#area de cada regiao encontrada\n",
    "    max_index = np.argmax(area)#index da maior regiao\n",
    "    for i in range(len(props)):\n",
    "        if(props[i].area < props[max_index].area):\n",
    "            label_img[np.where(label_img == i+1)] = 0#regiao menor que a maior eh marcada como background\n",
    " \n",
    "    #----------------recorte da regiao de interesse----------------#\n",
    "    # Obtendo os limites verticais das imagens segmentadas \n",
    "    ymin = np.min(np.where(label_img != 0)[1])\n",
    "    ymax = np.max(np.where(label_img != 0)[1])\n",
    "    imagem_cortada = imagem[:,ymin:ymax,:]     \n",
    "    return imagem_cortada"
   ]
  },
  {
   "cell_type": "code",
   "execution_count": 7,
   "metadata": {
    "collapsed": false
   },
   "outputs": [
    {
     "name": "stdout",
     "output_type": "stream",
     "text": [
      "0.9834959506988525\n"
     ]
    }
   ],
   "source": [
    "start = time.time()\n",
    "for id_im,imagem in enumerate(images_cc):\n",
    "    im_name = images_cc.files[id_im].split('/')[-1]\n",
    "    imagem_segmentada = segmentation(imagem)\n",
    "    imsave(path+'segmentacao/comcapacete/'+im_name,imagem_segmentada)\n",
    "\n",
    "    #print(im_name)\n",
    "for id_im,imagem in enumerate(images_sc):\n",
    "    im_name = images_sc.files[id_im].split('/')[-1]\n",
    "    imagem_segmentada = segmentation(imagem)\n",
    "    imsave(path+'segmentacao/semcapacete/'+im_name,imagem_segmentada)\n",
    "    #print(im_name)\n",
    "    \n",
    "end = time.time()\n",
    "print(end - start)"
   ]
  },
  {
   "cell_type": "code",
   "execution_count": null,
   "metadata": {
    "collapsed": false
   },
   "outputs": [],
   "source": []
  },
  {
   "cell_type": "code",
   "execution_count": null,
   "metadata": {
    "collapsed": false
   },
   "outputs": [],
   "source": []
  },
  {
   "cell_type": "code",
   "execution_count": 8,
   "metadata": {
    "collapsed": true
   },
   "outputs": [],
   "source": [
    "labels = np.concatenate((np.zeros(len(comcapacete)),np.ones(len(semcapacete))))"
   ]
  },
  {
   "cell_type": "markdown",
   "metadata": {},
   "source": [
    "# Extracting Features using GLCM"
   ]
  },
  {
   "cell_type": "code",
   "execution_count": 9,
   "metadata": {
    "collapsed": false
   },
   "outputs": [],
   "source": [
    "path_segmentada = \"/Users/romuere/Dropbox/MTAP/databases/database2_raw_data/segmentacao/\"\n",
    "comcapacete = glob(path_segmentada+'comcapacete/*.png')\n",
    "semcapacete = glob(path_segmentada+'semcapacete/*.png')\n",
    "images = imread_collection(comcapacete+semcapacete)"
   ]
  },
  {
   "cell_type": "code",
   "execution_count": 10,
   "metadata": {
    "collapsed": true
   },
   "outputs": [],
   "source": [
    "from skimage.feature import greycomatrix,greycoprops"
   ]
  },
  {
   "cell_type": "code",
   "execution_count": null,
   "metadata": {
    "collapsed": true
   },
   "outputs": [],
   "source": []
  },
  {
   "cell_type": "markdown",
   "metadata": {},
   "source": [
    "### Parameter\n",
    "\n",
    "- Distance\n",
    "- Angle"
   ]
  },
  {
   "cell_type": "code",
   "execution_count": 11,
   "metadata": {
    "collapsed": true
   },
   "outputs": [],
   "source": [
    "d = 15"
   ]
  },
  {
   "cell_type": "code",
   "execution_count": 12,
   "metadata": {
    "collapsed": false
   },
   "outputs": [
    {
     "name": "stdout",
     "output_type": "stream",
     "text": [
      "4.67635178565979\n"
     ]
    }
   ],
   "source": [
    "features = np.zeros((len(labels),18)) #6 features x 3 color channels\n",
    "start = time.time()\n",
    "\n",
    "for id_im,imagem in enumerate(images):\n",
    "    for id_ch in range(3):\n",
    "        matrix0 = greycomatrix(imagem[:,:,id_ch], [d], [0],normed=True)\n",
    "        matrix1 = greycomatrix(imagem[:,:,id_ch], [d], [np.pi/4],normed=True)\n",
    "        matrix2 = greycomatrix(imagem[:,:,id_ch], [d], [np.pi/2],normed=True)\n",
    "        matrix3 = greycomatrix(imagem[:,:,id_ch], [d], [3*np.pi/4],normed=True)\n",
    "        matrix = (matrix0+matrix1+matrix2+matrix3)/4 \n",
    "        props = np.zeros((6))\n",
    "        props[0] = greycoprops(matrix,'contrast')\n",
    "        props[1] = greycoprops(matrix,'dissimilarity')\n",
    "        props[2] = greycoprops(matrix,'homogeneity')\n",
    "        props[3] = greycoprops(matrix,'energy')\n",
    "        props[4] = greycoprops(matrix,'correlation')\n",
    "        props[5] = greycoprops(matrix,'ASM')\n",
    "        features[id_im,id_ch*6:(id_ch+1)*6] = props\n",
    "\n",
    "end = time.time()\n",
    "print(end - start)"
   ]
  },
  {
   "cell_type": "markdown",
   "metadata": {
    "collapsed": false
   },
   "source": [
    "# Split Data"
   ]
  },
  {
   "cell_type": "code",
   "execution_count": 13,
   "metadata": {
    "collapsed": false
   },
   "outputs": [],
   "source": [
    "train = 0.5\n",
    "test = 1-train"
   ]
  },
  {
   "cell_type": "code",
   "execution_count": 14,
   "metadata": {
    "collapsed": true
   },
   "outputs": [],
   "source": [
    "X_train, X_test, y_train, y_test = train_test_split(features, labels, test_size=test)"
   ]
  },
  {
   "cell_type": "code",
   "execution_count": 15,
   "metadata": {
    "collapsed": true
   },
   "outputs": [],
   "source": [
    "from sklearn.model_selection import RandomizedSearchCV\n",
    "from sklearn.ensemble import RandomForestClassifier\n",
    "from sklearn.metrics import cohen_kappa_score, make_scorer, confusion_matrix,accuracy_score\n",
    "from sklearn.svm import SVC\n"
   ]
  },
  {
   "cell_type": "code",
   "execution_count": 23,
   "metadata": {
    "collapsed": false
   },
   "outputs": [],
   "source": [
    "#Random Forest Parameter Estimation\n",
    "def rf_parameter_estimation(xEst, yEst):\n",
    "    \n",
    "    clf = RandomForestClassifier(n_estimators=20)    \n",
    "    # specify parameters and distributions to sample from\n",
    "    hyperparameters = {\"n_estimators\": range(10,1000,50),\n",
    "                  \"max_depth\": range(1,100),\n",
    "                  \"max_features\": sp_randint(1, xEst.shape[1]),\n",
    "                  \"min_samples_split\": sp_randint(1, xEst.shape[1]),\n",
    "                  \"min_samples_leaf\": sp_randint(1, xEst.shape[1]),\n",
    "                  \"bootstrap\": [True, False],\n",
    "                  \"criterion\": [\"gini\", \"entropy\"]}\n",
    "    \n",
    "    \n",
    "    # run randomized search\n",
    "    n_iter_search = 20\n",
    "    random_search = RandomizedSearchCV(clf, param_distributions=hyperparameters,\n",
    "                                       n_iter=n_iter_search,scoring=make_scorer(accuracy_score))\n",
    "    \n",
    "    \n",
    "    random_search.fit(xEst, yEst)\n",
    "    report(random_search.cv_results_)\n",
    "    return random_search.best_params_\n",
    "\n",
    "#SVM Parameter Estimation\n",
    "def svm_parameter_estimation(xEst, yEst):\n",
    "    \n",
    "    hyperparameters = {'gamma': [1e-1, 1e-2,1e-3, 1e-4],'C': [1, 10, 100, 1000]}\n",
    "    \n",
    "    clf = SVC(kernel='rbf')\n",
    "    # Run randomized search\n",
    "    n_iter_search = 8\n",
    "    random_search = RandomizedSearchCV(clf, param_distributions=hyperparameters,\n",
    "                                       n_iter=n_iter_search,scoring=make_scorer(accuracy_score))    \n",
    "    random_search.fit(xEst, yEst)\n",
    "\n",
    "    report(random_search.cv_results_)\n",
    "    return random_search.best_params_\n",
    "\n",
    "def report(results, n_top=3):\n",
    "    for i in range(1, n_top + 1):\n",
    "        candidates = np.flatnonzero(results['rank_test_score'] == i)\n",
    "        for candidate in candidates:\n",
    "            print(\"Model with rank: {0}\".format(i))\n",
    "            print(\"Mean validation score: {0:.3f} (std: {1:.3f})\".format(\n",
    "                  results['mean_test_score'][candidate],\n",
    "                  results['std_test_score'][candidate]))\n",
    "            print(\"Parameters: {0}\".format(results['params'][candidate]))"
   ]
  },
  {
   "cell_type": "markdown",
   "metadata": {},
   "source": [
    "# Classification unsing all features"
   ]
  },
  {
   "cell_type": "code",
   "execution_count": 24,
   "metadata": {
    "collapsed": false
   },
   "outputs": [
    {
     "name": "stdout",
     "output_type": "stream",
     "text": [
      "Model with rank: 1\n",
      "Mean validation score: 0.811 (std: 0.077)\n",
      "Parameters: {'n_estimators': 110, 'min_samples_split': 4, 'min_samples_leaf': 15, 'max_features': 10, 'criterion': 'gini', 'max_depth': 16, 'bootstrap': False}\n",
      "Model with rank: 1\n",
      "Mean validation score: 0.811 (std: 0.077)\n",
      "Parameters: {'n_estimators': 410, 'min_samples_split': 15, 'min_samples_leaf': 10, 'max_features': 5, 'criterion': 'gini', 'max_depth': 97, 'bootstrap': False}\n",
      "Model with rank: 3\n",
      "Mean validation score: 0.803 (std: 0.072)\n",
      "Parameters: {'n_estimators': 660, 'min_samples_split': 5, 'min_samples_leaf': 7, 'max_features': 9, 'criterion': 'entropy', 'max_depth': 84, 'bootstrap': False}\n",
      "39.847474813461304\n"
     ]
    }
   ],
   "source": [
    "start = time.time()\n",
    "\n",
    "parameters = rf_parameter_estimation(X_train, y_train)\n",
    "c_rf = RandomForestClassifier(**parameters)\n",
    "c_rf.fit(X_train,y_train)\n",
    "pred = c_rf.predict(X_test)\n",
    "acc_rf = accuracy_score(y_test, pred)\n",
    "\n",
    "end = time.time()\n",
    "print(end - start)"
   ]
  },
  {
   "cell_type": "code",
   "execution_count": null,
   "metadata": {
    "collapsed": false
   },
   "outputs": [],
   "source": []
  },
  {
   "cell_type": "code",
   "execution_count": 19,
   "metadata": {
    "collapsed": false
   },
   "outputs": [
    {
     "name": "stdout",
     "output_type": "stream",
     "text": [
      "Random Forest Accuracy:  0.828125\n"
     ]
    }
   ],
   "source": [
    "print('Random Forest Accuracy: ',acc_rf)"
   ]
  },
  {
   "cell_type": "code",
   "execution_count": 31,
   "metadata": {
    "collapsed": false
   },
   "outputs": [
    {
     "name": "stdout",
     "output_type": "stream",
     "text": [
      "Model with rank: 1\n",
      "Mean validation score: 0.575 (std: 0.005)\n",
      "Parameters: {'C': 1000, 'gamma': 0.1}\n",
      "Model with rank: 1\n",
      "Mean validation score: 0.575 (std: 0.005)\n",
      "Parameters: {'C': 1, 'gamma': 0.01}\n",
      "Model with rank: 1\n",
      "Mean validation score: 0.575 (std: 0.005)\n",
      "Parameters: {'C': 100, 'gamma': 0.01}\n",
      "Model with rank: 1\n",
      "Mean validation score: 0.575 (std: 0.005)\n",
      "Parameters: {'C': 10, 'gamma': 0.01}\n",
      "Model with rank: 1\n",
      "Mean validation score: 0.575 (std: 0.005)\n",
      "Parameters: {'C': 10, 'gamma': 0.001}\n",
      "Model with rank: 1\n",
      "Mean validation score: 0.575 (std: 0.005)\n",
      "Parameters: {'C': 1000, 'gamma': 0.001}\n",
      "0.06936192512512207\n"
     ]
    }
   ],
   "source": [
    "start = time.time()\n",
    "\n",
    "parameters = svm_parameter_estimation(X_train, y_train)\n",
    "c_svm = SVC(**parameters)\n",
    "c_svm.fit(X_train,y_train)\n",
    "pred = c_svm.predict(X_test)\n",
    "acc_svm = accuracy_score(y_test, pred)\n",
    "\n",
    "end = time.time()\n",
    "print(end - start)"
   ]
  },
  {
   "cell_type": "code",
   "execution_count": 32,
   "metadata": {
    "collapsed": false
   },
   "outputs": [
    {
     "data": {
      "text/plain": [
       "{'C': 1000, 'gamma': 0.1}"
      ]
     },
     "execution_count": 32,
     "metadata": {},
     "output_type": "execute_result"
    }
   ],
   "source": [
    "parameters"
   ]
  },
  {
   "cell_type": "code",
   "execution_count": 33,
   "metadata": {
    "collapsed": false
   },
   "outputs": [
    {
     "name": "stdout",
     "output_type": "stream",
     "text": [
      "Support Vector Machine Accuracy:  0.6171875\n"
     ]
    }
   ],
   "source": [
    "print('Support Vector Machine Accuracy: ',acc_svm)"
   ]
  },
  {
   "cell_type": "markdown",
   "metadata": {},
   "source": [
    "# Classification using PCA"
   ]
  },
  {
   "cell_type": "code",
   "execution_count": 34,
   "metadata": {
    "collapsed": true
   },
   "outputs": [],
   "source": [
    "from sklearn.decomposition import PCA"
   ]
  },
  {
   "cell_type": "code",
   "execution_count": 35,
   "metadata": {
    "collapsed": false
   },
   "outputs": [],
   "source": [
    "components = [2,4,8,10,12]"
   ]
  },
  {
   "cell_type": "code",
   "execution_count": 36,
   "metadata": {
    "collapsed": true
   },
   "outputs": [],
   "source": [
    "def pca(X_train, X_test,y_train, n_comp):\n",
    "    \"\"\"\n",
    "    PCA transformation for using a 'training' set and a 'testing' set\n",
    "    \"\"\"\n",
    "    pca = PCA(n_components=n_comp)\n",
    "    pca.fit(X_train,y_train)\n",
    "    transform = pca.transform(X_test)\n",
    "    #print(pca.explained_variance_ratio_)\n",
    "    return transform"
   ]
  },
  {
   "cell_type": "code",
   "execution_count": 37,
   "metadata": {
    "collapsed": false
   },
   "outputs": [
    {
     "name": "stdout",
     "output_type": "stream",
     "text": [
      "------------- n comp. =  2 -------------\n",
      "Model with rank: 1\n",
      "Mean validation score: 0.598 (std: 0.023)\n",
      "Parameters: {'n_estimators': 760, 'min_samples_split': 1, 'min_samples_leaf': 1, 'max_features': 1, 'criterion': 'gini', 'max_depth': 1, 'bootstrap': True}\n",
      "Model with rank: 2\n",
      "Mean validation score: 0.559 (std: 0.093)\n",
      "Parameters: {'n_estimators': 310, 'min_samples_split': 1, 'min_samples_leaf': 1, 'max_features': 1, 'criterion': 'entropy', 'max_depth': 10, 'bootstrap': False}\n",
      "Model with rank: 2\n",
      "Mean validation score: 0.559 (std: 0.059)\n",
      "Parameters: {'n_estimators': 260, 'min_samples_split': 1, 'min_samples_leaf': 1, 'max_features': 1, 'criterion': 'entropy', 'max_depth': 35, 'bootstrap': False}\n",
      "-------------------------------------------------\n",
      "Model with rank: 1\n",
      "Mean validation score: 0.575 (std: 0.005)\n",
      "Parameters: {'C': 1, 'gamma': 0.01}\n",
      "Model with rank: 1\n",
      "Mean validation score: 0.575 (std: 0.005)\n",
      "Parameters: {'C': 1, 'gamma': 0.001}\n",
      "Model with rank: 1\n",
      "Mean validation score: 0.575 (std: 0.005)\n",
      "Parameters: {'C': 100, 'gamma': 0.01}\n",
      "Model with rank: 1\n",
      "Mean validation score: 0.575 (std: 0.005)\n",
      "Parameters: {'C': 100, 'gamma': 0.001}\n",
      "Model with rank: 1\n",
      "Mean validation score: 0.575 (std: 0.005)\n",
      "Parameters: {'C': 10, 'gamma': 0.01}\n",
      "Model with rank: 1\n",
      "Mean validation score: 0.575 (std: 0.005)\n",
      "Parameters: {'C': 10, 'gamma': 0.001}\n",
      "Model with rank: 1\n",
      "Mean validation score: 0.575 (std: 0.005)\n",
      "Parameters: {'C': 100, 'gamma': 0.1}\n",
      "------------- n comp. =  4 -------------\n",
      "Model with rank: 1\n",
      "Mean validation score: 0.677 (std: 0.015)\n",
      "Parameters: {'n_estimators': 110, 'min_samples_split': 3, 'min_samples_leaf': 3, 'max_features': 3, 'criterion': 'entropy', 'max_depth': 41, 'bootstrap': True}\n",
      "Model with rank: 2\n",
      "Mean validation score: 0.669 (std: 0.020)\n",
      "Parameters: {'n_estimators': 560, 'min_samples_split': 1, 'min_samples_leaf': 2, 'max_features': 1, 'criterion': 'entropy', 'max_depth': 19, 'bootstrap': True}\n",
      "Model with rank: 2\n",
      "Mean validation score: 0.669 (std: 0.020)\n",
      "Parameters: {'n_estimators': 760, 'min_samples_split': 3, 'min_samples_leaf': 2, 'max_features': 1, 'criterion': 'entropy', 'max_depth': 91, 'bootstrap': True}\n",
      "-------------------------------------------------\n",
      "Model with rank: 1\n",
      "Mean validation score: 0.575 (std: 0.005)\n",
      "Parameters: {'C': 1, 'gamma': 0.1}\n",
      "Model with rank: 1\n",
      "Mean validation score: 0.575 (std: 0.005)\n",
      "Parameters: {'C': 1, 'gamma': 0.001}\n",
      "Model with rank: 1\n",
      "Mean validation score: 0.575 (std: 0.005)\n",
      "Parameters: {'C': 100, 'gamma': 0.01}\n",
      "Model with rank: 1\n",
      "Mean validation score: 0.575 (std: 0.005)\n",
      "Parameters: {'C': 1000, 'gamma': 0.001}\n",
      "Model with rank: 1\n",
      "Mean validation score: 0.575 (std: 0.005)\n",
      "Parameters: {'C': 10, 'gamma': 0.001}\n",
      "------------- n comp. =  8 -------------\n",
      "Model with rank: 1\n",
      "Mean validation score: 0.827 (std: 0.055)\n",
      "Parameters: {'n_estimators': 410, 'min_samples_split': 5, 'min_samples_leaf': 3, 'max_features': 4, 'criterion': 'gini', 'max_depth': 90, 'bootstrap': True}\n",
      "Model with rank: 2\n",
      "Mean validation score: 0.819 (std: 0.028)\n",
      "Parameters: {'n_estimators': 560, 'min_samples_split': 3, 'min_samples_leaf': 6, 'max_features': 6, 'criterion': 'gini', 'max_depth': 99, 'bootstrap': True}\n",
      "Model with rank: 2\n",
      "Mean validation score: 0.819 (std: 0.044)\n",
      "Parameters: {'n_estimators': 60, 'min_samples_split': 1, 'min_samples_leaf': 5, 'max_features': 5, 'criterion': 'entropy', 'max_depth': 85, 'bootstrap': True}\n",
      "Model with rank: 2\n",
      "Mean validation score: 0.819 (std: 0.029)\n",
      "Parameters: {'n_estimators': 810, 'min_samples_split': 1, 'min_samples_leaf': 1, 'max_features': 2, 'criterion': 'entropy', 'max_depth': 91, 'bootstrap': True}\n",
      "Model with rank: 2\n",
      "Mean validation score: 0.819 (std: 0.044)\n",
      "Parameters: {'n_estimators': 660, 'min_samples_split': 1, 'min_samples_leaf': 1, 'max_features': 4, 'criterion': 'entropy', 'max_depth': 85, 'bootstrap': True}\n",
      "-------------------------------------------------\n",
      "Model with rank: 1\n",
      "Mean validation score: 0.575 (std: 0.005)\n",
      "Parameters: {'C': 1, 'gamma': 0.1}\n",
      "Model with rank: 1\n",
      "Mean validation score: 0.575 (std: 0.005)\n",
      "Parameters: {'C': 1, 'gamma': 0.001}\n",
      "Model with rank: 1\n",
      "Mean validation score: 0.575 (std: 0.005)\n",
      "Parameters: {'C': 10, 'gamma': 0.1}\n",
      "Model with rank: 1\n",
      "Mean validation score: 0.575 (std: 0.005)\n",
      "Parameters: {'C': 10, 'gamma': 0.01}\n",
      "Model with rank: 1\n",
      "Mean validation score: 0.575 (std: 0.005)\n",
      "Parameters: {'C': 1000, 'gamma': 0.1}\n",
      "Model with rank: 1\n",
      "Mean validation score: 0.575 (std: 0.005)\n",
      "Parameters: {'C': 1000, 'gamma': 0.01}\n",
      "------------- n comp. =  10 -------------\n",
      "Model with rank: 1\n",
      "Mean validation score: 0.835 (std: 0.033)\n",
      "Parameters: {'n_estimators': 510, 'min_samples_split': 4, 'min_samples_leaf': 4, 'max_features': 4, 'criterion': 'gini', 'max_depth': 97, 'bootstrap': True}\n",
      "Model with rank: 2\n",
      "Mean validation score: 0.827 (std: 0.028)\n",
      "Parameters: {'n_estimators': 260, 'min_samples_split': 1, 'min_samples_leaf': 8, 'max_features': 4, 'criterion': 'entropy', 'max_depth': 92, 'bootstrap': False}\n",
      "Model with rank: 2\n",
      "Mean validation score: 0.827 (std: 0.039)\n",
      "Parameters: {'n_estimators': 860, 'min_samples_split': 2, 'min_samples_leaf': 2, 'max_features': 3, 'criterion': 'entropy', 'max_depth': 36, 'bootstrap': True}\n",
      "Model with rank: 2\n",
      "Mean validation score: 0.827 (std: 0.039)\n",
      "Parameters: {'n_estimators': 760, 'min_samples_split': 6, 'min_samples_leaf': 4, 'max_features': 3, 'criterion': 'gini', 'max_depth': 57, 'bootstrap': True}\n",
      "-------------------------------------------------\n",
      "Model with rank: 1\n",
      "Mean validation score: 0.575 (std: 0.005)\n",
      "Parameters: {'C': 1000, 'gamma': 0.001}\n",
      "Model with rank: 1\n",
      "Mean validation score: 0.575 (std: 0.005)\n",
      "Parameters: {'C': 1, 'gamma': 0.01}\n",
      "Model with rank: 1\n",
      "Mean validation score: 0.575 (std: 0.005)\n",
      "Parameters: {'C': 1, 'gamma': 0.001}\n",
      "Model with rank: 1\n",
      "Mean validation score: 0.575 (std: 0.005)\n",
      "Parameters: {'C': 10, 'gamma': 0.1}\n",
      "Model with rank: 1\n",
      "Mean validation score: 0.575 (std: 0.005)\n",
      "Parameters: {'C': 1000, 'gamma': 0.01}\n",
      "Model with rank: 1\n",
      "Mean validation score: 0.575 (std: 0.005)\n",
      "Parameters: {'C': 100, 'gamma': 0.001}\n",
      "------------- n comp. =  12 -------------\n",
      "Model with rank: 1\n",
      "Mean validation score: 0.835 (std: 0.018)\n",
      "Parameters: {'n_estimators': 860, 'min_samples_split': 9, 'min_samples_leaf': 10, 'max_features': 4, 'criterion': 'gini', 'max_depth': 83, 'bootstrap': False}\n",
      "Model with rank: 1\n",
      "Mean validation score: 0.835 (std: 0.037)\n",
      "Parameters: {'n_estimators': 910, 'min_samples_split': 11, 'min_samples_leaf': 7, 'max_features': 11, 'criterion': 'gini', 'max_depth': 57, 'bootstrap': True}\n",
      "Model with rank: 3\n",
      "Mean validation score: 0.827 (std: 0.021)\n",
      "Parameters: {'n_estimators': 610, 'min_samples_split': 3, 'min_samples_leaf': 11, 'max_features': 5, 'criterion': 'entropy', 'max_depth': 26, 'bootstrap': True}\n",
      "Model with rank: 3\n",
      "Mean validation score: 0.827 (std: 0.021)\n",
      "Parameters: {'n_estimators': 310, 'min_samples_split': 5, 'min_samples_leaf': 5, 'max_features': 3, 'criterion': 'entropy', 'max_depth': 75, 'bootstrap': True}\n",
      "Model with rank: 3\n",
      "Mean validation score: 0.827 (std: 0.021)\n",
      "Parameters: {'n_estimators': 660, 'min_samples_split': 1, 'min_samples_leaf': 1, 'max_features': 2, 'criterion': 'gini', 'max_depth': 6, 'bootstrap': True}\n",
      "Model with rank: 3\n",
      "Mean validation score: 0.827 (std: 0.057)\n",
      "Parameters: {'n_estimators': 660, 'min_samples_split': 11, 'min_samples_leaf': 7, 'max_features': 5, 'criterion': 'gini', 'max_depth': 8, 'bootstrap': True}\n",
      "Model with rank: 3\n",
      "Mean validation score: 0.827 (std: 0.039)\n",
      "Parameters: {'n_estimators': 610, 'min_samples_split': 3, 'min_samples_leaf': 4, 'max_features': 3, 'criterion': 'entropy', 'max_depth': 5, 'bootstrap': False}\n",
      "-------------------------------------------------\n",
      "Model with rank: 1\n",
      "Mean validation score: 0.575 (std: 0.005)\n",
      "Parameters: {'C': 100, 'gamma': 0.1}\n",
      "Model with rank: 1\n",
      "Mean validation score: 0.575 (std: 0.005)\n",
      "Parameters: {'C': 100, 'gamma': 0.001}\n",
      "Model with rank: 1\n",
      "Mean validation score: 0.575 (std: 0.005)\n",
      "Parameters: {'C': 1, 'gamma': 0.001}\n",
      "Model with rank: 1\n",
      "Mean validation score: 0.575 (std: 0.005)\n",
      "Parameters: {'C': 100, 'gamma': 0.01}\n",
      "Model with rank: 1\n",
      "Mean validation score: 0.575 (std: 0.005)\n",
      "Parameters: {'C': 10, 'gamma': 0.01}\n",
      "Model with rank: 1\n",
      "Mean validation score: 0.575 (std: 0.005)\n",
      "Parameters: {'C': 10, 'gamma': 0.001}\n",
      "186.78258991241455\n"
     ]
    }
   ],
   "source": [
    "results_rf = np.zeros(5)\n",
    "results_svm = np.zeros(5)\n",
    "\n",
    "start = time.time()\n",
    "for id_comp,comp in enumerate(components):\n",
    "    \n",
    "    print('-------------','n comp. = ',comp,'-------------')\n",
    "    \n",
    "    X_train_pca = pca(X_train,X_train,y_train,comp)\n",
    "    X_test_pca = pca(X_train,X_test,y_train,comp)\n",
    "    #RF\n",
    "    parameters = rf_parameter_estimation(X_train_pca, y_train)\n",
    "    c_rf = RandomForestClassifier(**parameters)\n",
    "    c_rf.fit(X_train_pca,y_train)\n",
    "    pred = c_rf.predict(X_test_pca)\n",
    "    acc = accuracy_score(y_test, pred)\n",
    "    results_rf[id_comp] = acc\n",
    "    \n",
    "    print('-------------------------------------------------')\n",
    "    \n",
    "    parameters = svm_parameter_estimation(X_train_pca, y_train)\n",
    "    c_svm = SVC(**parameters)\n",
    "    c_svm.fit(X_train_pca,y_train)\n",
    "    pred = c_svm.predict(X_test_pca)\n",
    "    acc = accuracy_score(y_test, pred)\n",
    "    results_svm[id_comp] = acc\n",
    "    \n",
    "end = time.time()\n",
    "print(end - start)"
   ]
  },
  {
   "cell_type": "code",
   "execution_count": null,
   "metadata": {
    "collapsed": false
   },
   "outputs": [],
   "source": []
  },
  {
   "cell_type": "code",
   "execution_count": 38,
   "metadata": {
    "collapsed": false,
    "scrolled": false
   },
   "outputs": [
    {
     "data": {
      "image/png": "[encoded data removed]",
      "text/plain": [
       "<matplotlib.figure.Figure at 0x1135dd828>"
      ]
     },
     "metadata": {},
     "output_type": "display_data"
    }
   ],
   "source": [
    "plt.style.use('ggplot')\n",
    "fig = plt.figure(figsize = (10,5),dpi=400)\n",
    "ax = plt.subplot(111)\n",
    "ax.plot(range(1,7),np.concatenate((results_rf,[acc_rf]),axis=0),marker = 'D',linestyle = ':',label = 'Random Forest')\n",
    "ax.plot(range(1,7),np.concatenate((results_svm,[acc_svm]),axis=0),marker = 'D',linestyle = ':',label = 'SVM')\n",
    "ax.set_xlim([0,7])\n",
    "ax.set_xlabel('PCA Components')\n",
    "ax.set_ylabel('Accuracy')\n",
    "ax.set_xticks(range(1,7))\n",
    "ax.set_xticklabels(['2','4','8','10','12','No PCA'])\n",
    "ax.set_ylim([0.5,1])\n",
    "ax.set_title('Helmets')\n",
    "legend = ax.legend(loc='upper center', shadow=True)"
   ]
  },
  {
   "cell_type": "code",
   "execution_count": 42,
   "metadata": {
    "collapsed": false
   },
   "outputs": [],
   "source": [
    "fig.savefig('/Users/romuere/pca.png')"
   ]
  },
  {
   "cell_type": "code",
   "execution_count": 43,
   "metadata": {
    "collapsed": false
   },
   "outputs": [
    {
     "data": {
      "text/plain": [
       "array([ 0.6171875,  0.6171875,  0.6171875,  0.6171875,  0.6171875])"
      ]
     },
     "execution_count": 43,
     "metadata": {},
     "output_type": "execute_result"
    }
   ],
   "source": [
    "results_svm"
   ]
  },
  {
   "cell_type": "code",
   "execution_count": null,
   "metadata": {
    "collapsed": false
   },
   "outputs": [],
   "source": []
  },
  {
   "cell_type": "code",
   "execution_count": null,
   "metadata": {
    "collapsed": false
   },
   "outputs": [],
   "source": []
  },
  {
   "cell_type": "code",
   "execution_count": null,
   "metadata": {
    "collapsed": false
   },
   "outputs": [],
   "source": []
  },
  {
   "cell_type": "code",
   "execution_count": null,
   "metadata": {
    "collapsed": false
   },
   "outputs": [],
   "source": []
  },
  {
   "cell_type": "code",
   "execution_count": null,
   "metadata": {
    "collapsed": false
   },
   "outputs": [],
   "source": [
    "\n"
   ]
  },
  {
   "cell_type": "code",
   "execution_count": null,
   "metadata": {
    "collapsed": true
   },
   "outputs": [],
   "source": []
  },
  {
   "cell_type": "code",
   "execution_count": null,
   "metadata": {
    "collapsed": true
   },
   "outputs": [],
   "source": []
  }
 ],
 "metadata": {
  "kernelspec": {
   "display_name": "Python 3",
   "language": "python",
   "name": "python3"
  },
  "language_info": {
   "codemirror_mode": {
    "name": "ipython",
    "version": 3
   },
   "file_extension": ".py",
   "mimetype": "text/x-python",
   "name": "python",
   "nbconvert_exporter": "python",
   "pygments_lexer": "ipython3",
   "version": "3.5.1"
  }
 },
 "nbformat": 4,
 "nbformat_minor": 0
}
